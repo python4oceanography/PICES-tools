{
 "cells": [
  {
   "cell_type": "markdown",
   "metadata": {},
   "source": [
    "# PICES Large Marine Ecosystem Regions\n",
    "## Data acquisition, analysis, plotting & saving to facilitate IEA report\n",
    "### Developed by: Chelle Gentemann (chellegentemann@gmail.com) & Marisol Garcia-Reyes (marisolgr@gmail.com)\n",
    "***\n",
    "***"
   ]
  },
  {
   "cell_type": "markdown",
   "metadata": {},
   "source": [
    "# Instructions\n",
    "\n",
    "## To configure:\n",
    "### In the cell marked by `Configuration` specify: Region, variable, and date period\n",
    "## To execute:\n",
    "### Click on the top menu: `Cell` -> `Run All`  \n",
    "***\n",
    "***"
   ]
  },
  {
   "cell_type": "markdown",
   "metadata": {},
   "source": [
    "# Regions\n",
    "<table width='100%'><tr>\n",
    "    <td width='10%'>\n",
    "        <b>LME Number</b><br><br>\n",
    "        11<br><br>12<br><br>13<br><br>14<br><br>15<br><br>16<br><br>17\n",
    "        <br><br>18<br><br>19<br><br>20<br><br>21<br><br>22<br><br>23<br><br>24</td>\n",
    "    <td width='20%' text-align='left'>\n",
    "    <b> LME Name</b><br><br>\n",
    "    California Current<br><br>\n",
    "    Gulf of Alaska<br><br>\n",
    "    East Bering Sea<br><br>\n",
    "    North Bering Sea<br><br>\n",
    "    Aleutian Islands<br><br>\n",
    "    West Bering Sea<br><br>\n",
    "    Sea of Okhotsk<br><br>\n",
    "    Oyashio Current<br><br>\n",
    "    Sea of Japan<br><br>\n",
    "    Yellow Sea<br><br>\n",
    "    East China Sea<br><br>\n",
    "    Kuroshio Current<br><br>\n",
    "    West North Pacific<br><br>\n",
    "    East North Pacific<br></td>\n",
    "    <td>\n",
    "<img src='../figures/PICES_all_regions_mask_ne.png' alt='North Pacific LME Regions' width='750'>\n",
    "    </td>\n",
    "    </tr>\n",
    "</table>\n",
    "\n",
    "\n",
    "***\n",
    "\n",
    "# Variables\n",
    "## 1) SST: Sea Surface Temperature  ('1981-01-01' - present) \n",
    "## 2) Chl: Chlorphyll-a Concentration ('1997-01-01' - '2018-06-30')\n",
    "## 3) Wind: Wind speed vector ('1997-01-01' - present)\n",
    "## 4) Current: Sea Surface Currents ('1992-01-01' - present)\n",
    "\n",
    "***\n",
    "***\n"
   ]
  },
  {
   "cell_type": "markdown",
   "metadata": {},
   "source": [
    "###########################\n",
    "#  ***  Configuration   ***\n",
    "<br>\n",
    "###########################"
   ]
  },
  {
   "cell_type": "code",
   "execution_count": null,
   "metadata": {},
   "outputs": [],
   "source": [
    "#######################\n",
    "#### Configuration ####\n",
    "#######################\n",
    "\n",
    "## Region to analyze ##\n",
    "region = 20 # <<<----- Use number (11 to 24) based on table above\n",
    "\n",
    "## Variable ##\n",
    "## Select the variable to analyze from the list above\n",
    "var = 'Wind' # <<<----- Use short name given above. upper or lower case accepted.\n",
    "\n",
    "## Period to analize ##\n",
    "## Specify the period using the format: YYYY-MM-DD\n",
    "## Data available specified above\n",
    "## All data in monthly resolution\n",
    "initial_date = '1993-01-01'\n",
    "final_date   = '2018-08-31'\n",
    "\n",
    "##############################\n",
    "#### End of configuration ####\n",
    "##############################"
   ]
  },
  {
   "cell_type": "code",
   "execution_count": null,
   "metadata": {},
   "outputs": [],
   "source": [
    "#### Do not modify ####\n",
    "  \n",
    "%matplotlib inline\n",
    "import sys\n",
    "sys.path.append('./subroutines/')\n",
    "from pices import analyze_PICES_Region\n",
    "\n",
    "analyze_PICES_Region(region, var, initial_date, final_date)\n",
    "\n",
    "#### End of script ####"
   ]
  },
  {
   "cell_type": "code",
   "execution_count": null,
   "metadata": {},
   "outputs": [],
   "source": []
  }
 ],
 "metadata": {
  "kernelspec": {
   "display_name": "Python 3",
   "language": "python",
   "name": "python3"
  },
  "language_info": {
   "codemirror_mode": {
    "name": "ipython",
    "version": 3
   },
   "file_extension": ".py",
   "mimetype": "text/x-python",
   "name": "python",
   "nbconvert_exporter": "python",
   "pygments_lexer": "ipython3",
   "version": "3.7.1"
  }
 },
 "nbformat": 4,
 "nbformat_minor": 2
}
