{
 "cells": [
  {
   "cell_type": "markdown",
   "metadata": {},
   "source": [
    "## Make maps of converted GIS shapefiles using cartopy"
   ]
  },
  {
   "cell_type": "code",
   "execution_count": null,
   "metadata": {},
   "outputs": [],
   "source": [
    "import xarray as xr\n",
    "import numpy as np\n",
    "import matplotlib.pyplot as plt\n",
    "import matplotlib.patheffects as PathEffects\n",
    "import matplotlib.ticker as mticker\n",
    "import cartopy.crs as ccrs\n",
    "from cartopy.mpl.gridliner import LONGITUDE_FORMATTER, LATITUDE_FORMATTER\n",
    "from cartopy.examples.arrows import sample_data\n",
    "import sys\n",
    "import os\n",
    "home_dir=os.getcwd()+'/'\n",
    "#import geopandas as gpd\n",
    "sys.path.append(home_dir+'subroutines/')\n",
    "import pices\n",
    "#dir_figs = home_dir+'/home/jovyan/utils/figures/'\n",
    "dir_figs = home_dir+'figures/'\n",
    "data_dir = home_dir+'data/LME/'"
   ]
  },
  {
   "cell_type": "markdown",
   "metadata": {},
   "source": [
    "## Get the PICES Masks"
   ]
  },
  {
   "cell_type": "code",
   "execution_count": null,
   "metadata": {},
   "outputs": [],
   "source": [
    "ds_pices360 = pices.get_pices_mask()\n",
    "ds_lme = pices.get_lme_mask()\n"
   ]
  },
  {
   "cell_type": "code",
   "execution_count": null,
   "metadata": {},
   "outputs": [],
   "source": [
    "filename_out = data_dir+'LME_all_mask.nc'\n",
    "ds_mask=xr.open_dataset(filename_out)\n",
    "ds_mask.close()\n",
    "ds_mask2 = ds_mask.where(ds_mask!=0,np.nan)\n",
    "plt.figure(figsize=(13,6.2))\n",
    "ax = plt.subplot(111, projection=ccrs.PlateCarree(central_longitude=180))#, \n",
    "#                                               min_latitude=-80, max_latitude=80))\n",
    "ax.background_img(name='ne_shaded', resolution='low')\n",
    "ax.set_extent([1,-1,-80,80])\n",
    "mm = ax.pcolormesh(ds_mask.lon,\\\n",
    "                   ds_mask.lat,\\\n",
    "                   ds_mask2.region_mask,vmin=11, vmax=24, transform=ccrs.PlateCarree(),cmap='jet' )\n",
    "ax.coastlines(resolution='10m');\n",
    "plt.title('LME regions')\n",
    "plt.colorbar(mm,ax=ax,shrink=.7,pad=.01,label='LME region number')\n",
    "plt.savefig(dir_figs+'/LME_all_regions_mask_be.png', dpi=100)\n"
   ]
  },
  {
   "cell_type": "code",
   "execution_count": null,
   "metadata": {},
   "outputs": [],
   "source": [
    "ds_mask_tem2 = ds_pices360.where(ds_pices360>0,np.nan)\n",
    "\n",
    "proj = ccrs.PlateCarree()\n",
    "\n",
    "plt.figure(figsize=(15,11))\n",
    "ax = plt.subplot(111, projection=ccrs.Mercator(central_longitude=180, \n",
    "                                               min_latitude=20, max_latitude=69))\n",
    "ax.background_img(name='natural-earth-1', resolution='large4096px')\n",
    "#ax.background_img(name='BM', resolution='high')\n",
    "ax.set_extent([115,-110,18,69])\n",
    "mm = ax.pcolormesh(ds_mask_tem2.lon,\\\n",
    "                   ds_mask_tem2.lat,\\\n",
    "                   ds_mask_tem2.region_mask,vmin=11, vmax=24, transform=proj,cmap='jet' )\n",
    "\n",
    "ptlat=[40,56,55,62,47,56,54,43,39,35,29,30]\n",
    "ptlon=[-131,-144,-175,-177,-176,167,145,149,132,120,123,132]\n",
    "ptlab=np.arange(11,23)\n",
    "for (plat,plon,plab) in zip(ptlat,ptlon,ptlab):\n",
    "    txt=ax.text(plon,plat,str(plab), color='white', fontsize=24, transform=proj)\n",
    "    txt.set_path_effects([PathEffects.withStroke(linewidth=5, foreground='k')])\n",
    "ax.arrow(-176,49,-1,1, color='white', width=.5, transform=proj)\n",
    "txt=ax.text(160,32,'23', color='white', fontsize=42, transform=proj)\n",
    "txt.set_path_effects([PathEffects.withStroke(linewidth=5, foreground='k')])\n",
    "txt=ax.text(-160,32,'24', color='white', fontsize=42, transform=proj)\n",
    "txt.set_path_effects([PathEffects.withStroke(linewidth=5, foreground='k')])\n",
    "ax.grid()\n",
    "ax.coastlines(resolution='10m');\n",
    "gl = ax.gridlines(crs=proj, draw_labels=True,\n",
    "                  linewidth=2, color='gray', alpha=0.5, linestyle='--')\n",
    "gl.xlocator = mticker.FixedLocator([-120,-140,-160,180,160,140,120])\n",
    "gl.ylocator = mticker.FixedLocator([30,40,50,60])\n",
    "gl.xformatter = LONGITUDE_FORMATTER\n",
    "gl.yformatter = LATITUDE_FORMATTER\n",
    "gl.xlabel_style = {'size': 15, 'color': 'black'}\n",
    "gl.ylabel_style = {'size': 15, 'color': 'black'}\n",
    "\n",
    "plt.savefig('/home/jovyan/utils/figures/PICES_all_regions_mask_ne.png', dpi=100)\n"
   ]
  },
  {
   "cell_type": "code",
   "execution_count": null,
   "metadata": {},
   "outputs": [],
   "source": [
    "ds_lme2 = ds_lme.drop('LME_names')\n",
    "ds_mask_tem2 = ds_lme2.where(ds_lme2>0,np.nan)\n",
    "\n",
    "proj = ccrs.PlateCarree()\n",
    "\n",
    "plt.figure(figsize=(15,11))\n",
    "ax = plt.subplot(111, projection=ccrs.Mercator(central_longitude=0, \n",
    "                                               min_latitude=-82, max_latitude=82))\n",
    "ax.background_img(name='BM', resolution='high')\n",
    "mm = ax.pcolormesh(ds_mask_tem2.lon,\\\n",
    "                   ds_mask_tem2.lat,\\\n",
    "                   ds_mask_tem2.region_mask,vmin=0, vmax=66, transform=proj,cmap='jet' )\n",
    "\n",
    "ax.grid()\n",
    "ax.coastlines();\n",
    "plt.savefig('/home/jovyan/utils/figures/LME_all_regions_mask_be.png', dpi=100)\n"
   ]
  },
  {
   "cell_type": "markdown",
   "metadata": {},
   "source": [
    "# To select just one LME"
   ]
  },
  {
   "cell_type": "code",
   "execution_count": null,
   "metadata": {},
   "outputs": [],
   "source": [
    "mask = ds_lme2.where(ds_lme2==10,np.nan)\n",
    "mask.region_mask.plot()"
   ]
  }
 ],
 "metadata": {
  "kernelspec": {
   "display_name": "Python 3",
   "language": "python",
   "name": "python3"
  },
  "language_info": {
   "codemirror_mode": {
    "name": "ipython",
    "version": 3
   },
   "file_extension": ".py",
   "mimetype": "text/x-python",
   "name": "python",
   "nbconvert_exporter": "python",
   "pygments_lexer": "ipython3",
   "version": "3.7.3"
  }
 },
 "nbformat": 4,
 "nbformat_minor": 2
}
